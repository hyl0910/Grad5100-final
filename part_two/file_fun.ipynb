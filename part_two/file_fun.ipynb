{
 "cells": [
  {
   "cell_type": "code",
   "execution_count": 3,
   "id": "046f8614-9d45-4a38-9eb5-cd53fde32c1d",
   "metadata": {
    "tags": []
   },
   "outputs": [],
   "source": [
    "def extract_code_and_extension(input_str):\n",
    "    parts = input_str.split('_')\n",
    "    nnnnn = parts[1]\n",
    "    extension = parts[-1]\n",
    "    return f\"{nnnnn}.{extension}\""
   ]
  },
  {
   "cell_type": "code",
   "execution_count": 4,
   "id": "2c975fc7-87bb-4b1a-8fd7-0102df2c3a6e",
   "metadata": {
    "tags": []
   },
   "outputs": [],
   "source": [
    "import os\n",
    "\n",
    "# Create 'expanded' directory if it doesn't exist\n",
    "if not os.path.exists('expanded'):\n",
    "    os.makedirs('expanded')\n",
    "\n",
    "# Read codes from codes.txt and create files\n",
    "with open('codes.txt', 'r') as file:\n",
    "    for line in file:\n",
    "        code = line.strip()\n",
    "        file_name = f\"expanded/{extract_code_and_extension(code)}\"\n",
    "        with open(file_name, 'w') as new_file:\n",
    "            new_file.write(code.split('_')[0])"
   ]
  },
  {
   "cell_type": "code",
   "execution_count": null,
   "id": "d20c0aa0-d566-4c2d-8e08-fdaa8630fbe1",
   "metadata": {},
   "outputs": [],
   "source": []
  }
 ],
 "metadata": {
  "kernelspec": {
   "display_name": "Python 3 (ipykernel)",
   "language": "python",
   "name": "python3"
  },
  "language_info": {
   "codemirror_mode": {
    "name": "ipython",
    "version": 3
   },
   "file_extension": ".py",
   "mimetype": "text/x-python",
   "name": "python",
   "nbconvert_exporter": "python",
   "pygments_lexer": "ipython3",
   "version": "3.11.5"
  }
 },
 "nbformat": 4,
 "nbformat_minor": 5
}
